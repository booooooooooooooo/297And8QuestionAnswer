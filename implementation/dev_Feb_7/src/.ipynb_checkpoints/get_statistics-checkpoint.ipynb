{
 "cells": [
  {
   "cell_type": "code",
   "execution_count": 3,
   "metadata": {},
   "outputs": [],
   "source": [
    "import nltk\n",
    "import json\n",
    "from tqdm import tqdm\n",
    "import os\n",
    "import sys\n",
    "import argparse\n",
    "import pickle\n",
    "import random\n",
    "\n",
    "import matplotlib.pyplot as plt\n",
    "\n",
    "from preprocess import Preprocessor\n"
   ]
  },
  {
   "cell_type": "code",
   "execution_count": 4,
   "metadata": {},
   "outputs": [
    {
     "name": "stderr",
     "output_type": "stream",
     "text": [
      "Analyzing ../data/data_json/test.json: 100%|██████████| 48/48 [00:04<00:00, 11.47it/s]"
     ]
    },
    {
     "name": "stdout",
     "output_type": "stream",
     "text": [
      "hello\n",
      "How many (passage, question, answer) tuples : 34726 \n",
      "pass_max_length: 700 \n",
      "pass_ave_length: 142\n",
      "ques_max_length: 34 \n",
      "ques_ave_length :11 \n",
      "\n"
     ]
    },
    {
     "name": "stderr",
     "output_type": "stream",
     "text": [
      "\n"
     ]
    }
   ],
   "source": [
    "preprocessor = Preprocessor()\n",
    "# preprocessor.analyze(\"../data/data_json/train.json\")\n",
    "# preprocessor.analyze(\"../data/data_json/valid.json\")\n",
    "pass_lengths, ques_lengths = preprocessor.analyze(\"../data/data_json/test.json\")\n",
    "\n",
    "# plt.plot(pass_lengths)\n",
    "# plt.plot(ques_lengths)"
   ]
  },
  {
   "cell_type": "code",
   "execution_count": null,
   "metadata": {},
   "outputs": [],
   "source": []
  }
 ],
 "metadata": {
  "kernelspec": {
   "display_name": "Python 2",
   "language": "python",
   "name": "python2"
  },
  "language_info": {
   "codemirror_mode": {
    "name": "ipython",
    "version": 2
   },
   "file_extension": ".py",
   "mimetype": "text/x-python",
   "name": "python",
   "nbconvert_exporter": "python",
   "pygments_lexer": "ipython2",
   "version": "2.7.12"
  }
 },
 "nbformat": 4,
 "nbformat_minor": 2
}
